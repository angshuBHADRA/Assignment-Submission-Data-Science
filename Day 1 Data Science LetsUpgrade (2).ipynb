{
 "cells": [
  {
   "cell_type": "code",
   "execution_count": 1,
   "metadata": {
    "scrolled": false
   },
   "outputs": [
    {
     "name": "stdout",
     "output_type": "stream",
     "text": [
      "LETS UPGRAGE\n"
     ]
    }
   ],
   "source": [
    "print(\"LETS UPGRAGE\")"
   ]
  },
  {
   "cell_type": "code",
   "execution_count": 9,
   "metadata": {},
   "outputs": [
    {
     "name": "stdout",
     "output_type": "stream",
     "text": [
      "Please enter the actual price1000\n",
      "please Enter the sales amount1200\n",
      "Total profit= 200\n"
     ]
    }
   ],
   "source": [
    "x=int(input(\"Please enter the actual price\"))\n",
    "y=int(input(\"please Enter the sales amount\"))\n",
    "\n",
    "if (x>y):\n",
    "    amount=x-Y\n",
    "    print(\"Total loss amount= {0}\".format(amount))\n",
    "elif(x<y):\n",
    "    amount=y-x\n",
    "    print(\"Total profit= {0}\".format(amount))\n",
    "else:\n",
    "    print(\"No profit no loss\")"
   ]
  },
  {
   "cell_type": "code",
   "execution_count": 17,
   "metadata": {},
   "outputs": [
    {
     "name": "stdout",
     "output_type": "stream",
     "text": [
      "Convert your Euro into INR 50\n",
      "4000.0\n"
     ]
    }
   ],
   "source": [
    "x=float(input(\"Convert your Euro into INR \"))\n",
    "Rs=x*80\n",
    "print(Rs)\n"
   ]
  },
  {
   "cell_type": "code",
   "execution_count": null,
   "metadata": {},
   "outputs": [],
   "source": []
  }
 ],
 "metadata": {
  "kernelspec": {
   "display_name": "Python 3",
   "language": "python",
   "name": "python3"
  },
  "language_info": {
   "codemirror_mode": {
    "name": "ipython",
    "version": 3
   },
   "file_extension": ".py",
   "mimetype": "text/x-python",
   "name": "python",
   "nbconvert_exporter": "python",
   "pygments_lexer": "ipython3",
   "version": "3.8.3"
  }
 },
 "nbformat": 4,
 "nbformat_minor": 4
}
